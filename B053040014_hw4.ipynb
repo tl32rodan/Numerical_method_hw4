{
 "cells": [
  {
   "cell_type": "code",
   "execution_count": 26,
   "metadata": {},
   "outputs": [],
   "source": [
    "import numpy as np"
   ]
  },
  {
   "cell_type": "markdown",
   "metadata": {},
   "source": [
    "# Question 1"
   ]
  },
  {
   "cell_type": "code",
   "execution_count": null,
   "metadata": {},
   "outputs": [],
   "source": []
  },
  {
   "cell_type": "markdown",
   "metadata": {},
   "source": [
    "# Question 2\n",
    "### $f_1(x) = 0.2 + 25x − 200x^2 + 675x^3$ and $f_2(x) = 0.2 + 25x − 200x^2 + 675x^3 − 900x^4$"
   ]
  },
  {
   "cell_type": "markdown",
   "metadata": {},
   "source": [
    "### 1. Change of variables: $x = 0.4+0.4x_d$ and $dx = 0.4d(x_d)$"
   ]
  },
  {
   "cell_type": "markdown",
   "metadata": {},
   "source": [
    "### 2. $\\int^{0.8}_0f(x)dx = \\int^1_{-1}f(x_d)0.4d(x_d)$"
   ]
  },
  {
   "cell_type": "markdown",
   "metadata": {},
   "source": [
    "### 3.\n",
    "#### 3.1 $\\int^{0.8}_0f_1(x)dx = 0.4 \\times (f_1(x_d = \\frac{-1}{\\sqrt{3}}) + f_1(x_d = \\frac{1}{\\sqrt{3}})) \\cong 43.1466666666667$ \n",
    "#### 3.2 $\\int^{0.8}_0f_1(x)dx = 0.4 \\times (f_2(x_d = \\frac{-1}{\\sqrt{3}}) + f_2(x_d = \\frac{1}{\\sqrt{3}})) \\cong -14.197333333333347$ "
   ]
  },
  {
   "cell_type": "markdown",
   "metadata": {},
   "source": [
    "### 4.\n",
    "#### 4.1 True value of integral of $f_1(x)$ in $[0,0.8] = 43.14666666666668$, relative error $\\approx 0$\n",
    "#### 4.2 True value of integral of $f_2(x)$ in $[0,0.8] = -15.83573333333333$, relative error $= 0.10346221204364707$"
   ]
  },
  {
   "cell_type": "code",
   "execution_count": 32,
   "metadata": {},
   "outputs": [
    {
     "name": "stdout",
     "output_type": "stream",
     "text": [
      "43.1466666666667\n"
     ]
    }
   ],
   "source": [
    "def q2_f_1(x):\n",
    "    x = 0.4 + 0.4*x\n",
    "    return 0.2 + 25*x - 200*(x**2) + 675 *(x**3) \n",
    "\n",
    "print((q2_f_1(-1/np.sqrt(3)) + q2_f_1(1/np.sqrt(3)))*0.4)"
   ]
  },
  {
   "cell_type": "code",
   "execution_count": 33,
   "metadata": {},
   "outputs": [
    {
     "name": "stdout",
     "output_type": "stream",
     "text": [
      "-14.197333333333347\n"
     ]
    }
   ],
   "source": [
    "def q2_f_2(x):\n",
    "    x = 0.4 + 0.4*x\n",
    "    return 0.2 + 25*x - 200*(x**2) + 675 *(x**3) - 900*(x**4)\n",
    "\n",
    "print((q2_f_2(-1/np.sqrt(3)) + q2_f_2(1/np.sqrt(3)))*0.4)"
   ]
  },
  {
   "cell_type": "code",
   "execution_count": 34,
   "metadata": {},
   "outputs": [
    {
     "name": "stdout",
     "output_type": "stream",
     "text": [
      "43.14666666666668\n"
     ]
    }
   ],
   "source": [
    "def q2_f_1_int(x):\n",
    "    return 0.2*x + (1/2)*25*(x**2) - (1/3)*200*(x**3) + (1/4)*675 *(x**4)\n",
    "print(q2_f_1_int(0.8) - q2_f_1_int(0))"
   ]
  },
  {
   "cell_type": "code",
   "execution_count": 35,
   "metadata": {},
   "outputs": [
    {
     "name": "stdout",
     "output_type": "stream",
     "text": [
      "-15.83573333333333\n"
     ]
    }
   ],
   "source": [
    "def q2_f_2_int(x):\n",
    "    return 0.2*x + (1/2)*25*(x**2) - (1/3)*200*(x**3) + (1/4)*675 *(x**4) - (1/5)*900*(x**5)\n",
    "print(q2_f_2_int(0.8) - q2_f_2_int(0))"
   ]
  },
  {
   "cell_type": "code",
   "execution_count": 38,
   "metadata": {},
   "outputs": [
    {
     "name": "stdout",
     "output_type": "stream",
     "text": [
      "-3.2936158950560874e-16\n",
      "0.10346221204364707\n"
     ]
    }
   ],
   "source": [
    "def relative_error(true_value, approx_value):\n",
    "    return (true_value- approx_value)/true_value\n",
    "\n",
    "print(relative_error(q2_f_1_int(0.8) - q2_f_1_int(0), (q2_f_1(-1/np.sqrt(3)) + q2_f_1(1/np.sqrt(3)))*0.4))\n",
    "print(relative_error(q2_f_2_int(0.8) - q2_f_2_int(0), (q2_f_2(-1/np.sqrt(3)) + q2_f_2(1/np.sqrt(3)))*0.4))"
   ]
  },
  {
   "cell_type": "code",
   "execution_count": null,
   "metadata": {},
   "outputs": [],
   "source": []
  }
 ],
 "metadata": {
  "kernelspec": {
   "display_name": "Python 3",
   "language": "python",
   "name": "python3"
  },
  "language_info": {
   "codemirror_mode": {
    "name": "ipython",
    "version": 3
   },
   "file_extension": ".py",
   "mimetype": "text/x-python",
   "name": "python",
   "nbconvert_exporter": "python",
   "pygments_lexer": "ipython3",
   "version": "3.6.10"
  }
 },
 "nbformat": 4,
 "nbformat_minor": 4
}
