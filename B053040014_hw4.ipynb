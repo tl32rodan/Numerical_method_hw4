{
 "cells": [
  {
   "cell_type": "code",
   "execution_count": 103,
   "metadata": {},
   "outputs": [],
   "source": [
    "import matplotlib.pyplot as plt\n",
    "import matplotlib.dates as dates\n",
    "from datetime import datetime\n",
    "from matplotlib.dates import AutoDateFormatter, AutoDateLocator\n",
    "import numpy as np\n",
    "import pandas as pd"
   ]
  },
  {
   "cell_type": "markdown",
   "metadata": {},
   "source": [
    "# Question 1"
   ]
  },
  {
   "cell_type": "markdown",
   "metadata": {},
   "source": [
    "$\\begin{align*}\n",
    "f(x_{i+1})  &= f(x_i) + f^{'}(x_i)h + \\dfrac{f^{''}(x_i)}{2!}h^2 + \\dots \\tag{1}\\\\\n",
    "f(x_{i-1})  &= f(x_i) - f^{'}(x_i)h + \\dfrac{f^{''}(x_i)}{2!}h^2 + \\dots \\tag{2}\\\\\n",
    "\\\\\n",
    "\\text{from (1) (2):}\\\\\n",
    "f^{'}(x_i)  &= \\dfrac{f(x_{i+1}) - f(x_{i-1})}{2h} - \\dfrac{f^{(3)}(x_i)}{3!}h^2 + O(h^3) \\\\\n",
    "f^{''}(x_i) &\\cong \\dfrac{f(x_{i+1}) - 2f(x_i) + f(x_{i-1})}{h^2} \\\\\n",
    "f^{(3)}(x_i)&\\cong \\dfrac{f^{''}(x_{i+1}) - f^{''}(x_{i-1})}{2h} \\\\\n",
    "            &= \\dfrac{1}{2h}\\Big[\\dfrac{f(x_{i+2}) - 2f(x_{i+1}) + f(x_i)}{h^2} - \\dfrac{f(x_{i}) - 2f(x_{i-1}) + f(x_{i-2})}{h^2}\\Big]\\\\\n",
    "            &= \\dfrac{f(x_{i+2}) - 2f(x_{i+1}) + 2f(x_{i-1}) - f(x_{i-2}) }{2h^3}\\\\\n",
    "\\therefore f^{'}(x_i) &\\cong  \\dfrac{f(x_{i+1}) - f(x_{i-1})}{2h} -  \\dfrac{f(x_{i+2}) - 2f(x_{i+1}) + 2f(x_{i-1}) - f(x_{i-2}) }{12h^3}h^2  \\\\\n",
    "            &= \\dfrac{-f(x_{i+2}) + 8f(x_{i+1}) - 8f(x_{i-1}) + f(x_{i-2})}{12h} , Q.E.D.\n",
    "\\end{align*}$"
   ]
  },
  {
   "cell_type": "markdown",
   "metadata": {},
   "source": [
    "# Question 2\n",
    "### $f_1(x) = 0.2 + 25x − 200x^2 + 675x^3$ and $f_2(x) = 0.2 + 25x − 200x^2 + 675x^3 − 900x^4$"
   ]
  },
  {
   "cell_type": "markdown",
   "metadata": {},
   "source": [
    "### 1. Change of variables: $x = 0.4+0.4x_d$ and $dx = 0.4d(x_d)$"
   ]
  },
  {
   "cell_type": "markdown",
   "metadata": {},
   "source": [
    "### 2. $\\int^{0.8}_0f(x)dx = \\int^1_{-1}f(x_d)0.4d(x_d)$"
   ]
  },
  {
   "cell_type": "markdown",
   "metadata": {},
   "source": [
    "### 3.\n",
    "#### 3.1 $\\int^{0.8}_0f_1(x)dx = 0.4 \\times (f_1(x_d = \\frac{-1}{\\sqrt{3}}) + f_1(x_d = \\frac{1}{\\sqrt{3}})) \\cong 43.1466666666667$ \n",
    "#### 3.2 $\\int^{0.8}_0f_1(x)dx = 0.4 \\times (f_2(x_d = \\frac{-1}{\\sqrt{3}}) + f_2(x_d = \\frac{1}{\\sqrt{3}})) \\cong -14.197333333333347$ "
   ]
  },
  {
   "cell_type": "markdown",
   "metadata": {},
   "source": [
    "### 4.\n",
    "#### 4.1 True value of integral of $f_1(x)$ in $[0,0.8] = 43.14666666666668$, relative error $\\approx 0$\n",
    "#### 4.2 True value of integral of $f_2(x)$ in $[0,0.8] = -15.83573333333333$, relative error $= 0.10346221204364707$"
   ]
  },
  {
   "cell_type": "code",
   "execution_count": 2,
   "metadata": {},
   "outputs": [
    {
     "name": "stdout",
     "output_type": "stream",
     "text": [
      "43.1466666666667\n"
     ]
    }
   ],
   "source": [
    "def q2_f_1(x):\n",
    "    x = 0.4 + 0.4*x\n",
    "    return 0.2 + 25*x - 200*(x**2) + 675 *(x**3) \n",
    "\n",
    "print((q2_f_1(-1/np.sqrt(3)) + q2_f_1(1/np.sqrt(3)))*0.4)"
   ]
  },
  {
   "cell_type": "code",
   "execution_count": 3,
   "metadata": {},
   "outputs": [
    {
     "name": "stdout",
     "output_type": "stream",
     "text": [
      "-14.197333333333347\n"
     ]
    }
   ],
   "source": [
    "def q2_f_2(x):\n",
    "    x = 0.4 + 0.4*x\n",
    "    return 0.2 + 25*x - 200*(x**2) + 675 *(x**3) - 900*(x**4)\n",
    "\n",
    "print((q2_f_2(-1/np.sqrt(3)) + q2_f_2(1/np.sqrt(3)))*0.4)"
   ]
  },
  {
   "cell_type": "code",
   "execution_count": 4,
   "metadata": {},
   "outputs": [
    {
     "name": "stdout",
     "output_type": "stream",
     "text": [
      "43.14666666666668\n"
     ]
    }
   ],
   "source": [
    "def q2_f_1_int(x):\n",
    "    return 0.2*x + (1/2)*25*(x**2) - (1/3)*200*(x**3) + (1/4)*675 *(x**4)\n",
    "print(q2_f_1_int(0.8) - q2_f_1_int(0))"
   ]
  },
  {
   "cell_type": "code",
   "execution_count": 5,
   "metadata": {},
   "outputs": [
    {
     "name": "stdout",
     "output_type": "stream",
     "text": [
      "-15.83573333333333\n"
     ]
    }
   ],
   "source": [
    "def q2_f_2_int(x):\n",
    "    return 0.2*x + (1/2)*25*(x**2) - (1/3)*200*(x**3) + (1/4)*675 *(x**4) - (1/5)*900*(x**5)\n",
    "print(q2_f_2_int(0.8) - q2_f_2_int(0))"
   ]
  },
  {
   "cell_type": "code",
   "execution_count": 6,
   "metadata": {},
   "outputs": [
    {
     "name": "stdout",
     "output_type": "stream",
     "text": [
      "-3.2936158950560874e-16\n",
      "0.10346221204364707\n"
     ]
    }
   ],
   "source": [
    "def relative_error(true_value, approx_value):\n",
    "    return (true_value - approx_value)/true_value\n",
    "\n",
    "print(relative_error(q2_f_1_int(0.8) - q2_f_1_int(0), (q2_f_1(-1/np.sqrt(3)) + q2_f_1(1/np.sqrt(3)))*0.4))\n",
    "print(relative_error(q2_f_2_int(0.8) - q2_f_2_int(0), (q2_f_2(-1/np.sqrt(3)) + q2_f_2(1/np.sqrt(3)))*0.4))"
   ]
  },
  {
   "cell_type": "markdown",
   "metadata": {},
   "source": [
    "# Question 3"
   ]
  },
  {
   "cell_type": "markdown",
   "metadata": {},
   "source": [
    "## a.\n",
    "#### Download csv from https://covidtracking.com/api & use mathplotlib to plot"
   ]
  },
  {
   "cell_type": "code",
   "execution_count": 81,
   "metadata": {},
   "outputs": [
    {
     "data": {
      "text/html": [
       "<div>\n",
       "<style scoped>\n",
       "    .dataframe tbody tr th:only-of-type {\n",
       "        vertical-align: middle;\n",
       "    }\n",
       "\n",
       "    .dataframe tbody tr th {\n",
       "        vertical-align: top;\n",
       "    }\n",
       "\n",
       "    .dataframe thead th {\n",
       "        text-align: right;\n",
       "    }\n",
       "</style>\n",
       "<table border=\"1\" class=\"dataframe\">\n",
       "  <thead>\n",
       "    <tr style=\"text-align: right;\">\n",
       "      <th></th>\n",
       "      <th>date</th>\n",
       "      <th>states</th>\n",
       "      <th>positive</th>\n",
       "      <th>negative</th>\n",
       "      <th>pending</th>\n",
       "      <th>hospitalizedCurrently</th>\n",
       "      <th>hospitalizedCumulative</th>\n",
       "      <th>inIcuCurrently</th>\n",
       "      <th>inIcuCumulative</th>\n",
       "      <th>onVentilatorCurrently</th>\n",
       "      <th>...</th>\n",
       "      <th>lastModified</th>\n",
       "      <th>total</th>\n",
       "      <th>totalTestResults</th>\n",
       "      <th>posNeg</th>\n",
       "      <th>deathIncrease</th>\n",
       "      <th>hospitalizedIncrease</th>\n",
       "      <th>negativeIncrease</th>\n",
       "      <th>positiveIncrease</th>\n",
       "      <th>totalTestResultsIncrease</th>\n",
       "      <th>hash</th>\n",
       "    </tr>\n",
       "  </thead>\n",
       "  <tbody>\n",
       "    <tr>\n",
       "      <th>0</th>\n",
       "      <td>20200607</td>\n",
       "      <td>56</td>\n",
       "      <td>1936161</td>\n",
       "      <td>18299517.0</td>\n",
       "      <td>1733.0</td>\n",
       "      <td>30299.0</td>\n",
       "      <td>216906.0</td>\n",
       "      <td>6493.0</td>\n",
       "      <td>8957.0</td>\n",
       "      <td>3298.0</td>\n",
       "      <td>...</td>\n",
       "      <td>2020-06-07T00:00:00Z</td>\n",
       "      <td>20237411</td>\n",
       "      <td>20235678</td>\n",
       "      <td>20235678</td>\n",
       "      <td>453</td>\n",
       "      <td>647</td>\n",
       "      <td>427219</td>\n",
       "      <td>19932</td>\n",
       "      <td>447151</td>\n",
       "      <td>5f6979262beb8a9cfd142ddfeb3cfaa94cab7e4f</td>\n",
       "    </tr>\n",
       "    <tr>\n",
       "      <th>1</th>\n",
       "      <td>20200606</td>\n",
       "      <td>56</td>\n",
       "      <td>1916229</td>\n",
       "      <td>17872298.0</td>\n",
       "      <td>1796.0</td>\n",
       "      <td>30909.0</td>\n",
       "      <td>216259.0</td>\n",
       "      <td>6754.0</td>\n",
       "      <td>8920.0</td>\n",
       "      <td>3476.0</td>\n",
       "      <td>...</td>\n",
       "      <td>2020-06-06T00:00:00Z</td>\n",
       "      <td>19790323</td>\n",
       "      <td>19788527</td>\n",
       "      <td>19788527</td>\n",
       "      <td>746</td>\n",
       "      <td>1007</td>\n",
       "      <td>517091</td>\n",
       "      <td>23062</td>\n",
       "      <td>540153</td>\n",
       "      <td>f2540c8d958b7647d63cbe7a50209e861aeaa260</td>\n",
       "    </tr>\n",
       "    <tr>\n",
       "      <th>2</th>\n",
       "      <td>20200605</td>\n",
       "      <td>56</td>\n",
       "      <td>1893167</td>\n",
       "      <td>17355207.0</td>\n",
       "      <td>1749.0</td>\n",
       "      <td>31335.0</td>\n",
       "      <td>215252.0</td>\n",
       "      <td>6912.0</td>\n",
       "      <td>8863.0</td>\n",
       "      <td>3523.0</td>\n",
       "      <td>...</td>\n",
       "      <td>2020-06-05T00:00:00Z</td>\n",
       "      <td>19250123</td>\n",
       "      <td>19248374</td>\n",
       "      <td>19248374</td>\n",
       "      <td>1100</td>\n",
       "      <td>1440</td>\n",
       "      <td>517298</td>\n",
       "      <td>28392</td>\n",
       "      <td>545690</td>\n",
       "      <td>8a6347d0d8e20dfede26ddd4265eb36923178d00</td>\n",
       "    </tr>\n",
       "    <tr>\n",
       "      <th>3</th>\n",
       "      <td>20200604</td>\n",
       "      <td>56</td>\n",
       "      <td>1864775</td>\n",
       "      <td>16837909.0</td>\n",
       "      <td>3474.0</td>\n",
       "      <td>31659.0</td>\n",
       "      <td>213812.0</td>\n",
       "      <td>7054.0</td>\n",
       "      <td>8787.0</td>\n",
       "      <td>3665.0</td>\n",
       "      <td>...</td>\n",
       "      <td>2020-06-04T00:00:00Z</td>\n",
       "      <td>18706158</td>\n",
       "      <td>18702684</td>\n",
       "      <td>18702684</td>\n",
       "      <td>884</td>\n",
       "      <td>-2828</td>\n",
       "      <td>439394</td>\n",
       "      <td>20540</td>\n",
       "      <td>459934</td>\n",
       "      <td>c93b7399aca9ff1af0861397b09744eb6586fe9c</td>\n",
       "    </tr>\n",
       "    <tr>\n",
       "      <th>4</th>\n",
       "      <td>20200603</td>\n",
       "      <td>56</td>\n",
       "      <td>1844235</td>\n",
       "      <td>16398515.0</td>\n",
       "      <td>3556.0</td>\n",
       "      <td>32081.0</td>\n",
       "      <td>216640.0</td>\n",
       "      <td>7224.0</td>\n",
       "      <td>8688.0</td>\n",
       "      <td>3749.0</td>\n",
       "      <td>...</td>\n",
       "      <td>2020-06-03T00:00:00Z</td>\n",
       "      <td>18246306</td>\n",
       "      <td>18242750</td>\n",
       "      <td>18242750</td>\n",
       "      <td>971</td>\n",
       "      <td>2258</td>\n",
       "      <td>438728</td>\n",
       "      <td>20063</td>\n",
       "      <td>458791</td>\n",
       "      <td>28c140c1abb0bdabfa257a8d2ca6ada1c15d6860</td>\n",
       "    </tr>\n",
       "    <tr>\n",
       "      <th>...</th>\n",
       "      <td>...</td>\n",
       "      <td>...</td>\n",
       "      <td>...</td>\n",
       "      <td>...</td>\n",
       "      <td>...</td>\n",
       "      <td>...</td>\n",
       "      <td>...</td>\n",
       "      <td>...</td>\n",
       "      <td>...</td>\n",
       "      <td>...</td>\n",
       "      <td>...</td>\n",
       "      <td>...</td>\n",
       "      <td>...</td>\n",
       "      <td>...</td>\n",
       "      <td>...</td>\n",
       "      <td>...</td>\n",
       "      <td>...</td>\n",
       "      <td>...</td>\n",
       "      <td>...</td>\n",
       "      <td>...</td>\n",
       "      <td>...</td>\n",
       "    </tr>\n",
       "    <tr>\n",
       "      <th>133</th>\n",
       "      <td>20200126</td>\n",
       "      <td>1</td>\n",
       "      <td>1</td>\n",
       "      <td>0.0</td>\n",
       "      <td>0.0</td>\n",
       "      <td>0.0</td>\n",
       "      <td>0.0</td>\n",
       "      <td>0.0</td>\n",
       "      <td>0.0</td>\n",
       "      <td>0.0</td>\n",
       "      <td>...</td>\n",
       "      <td>2020-01-26T00:00:00Z</td>\n",
       "      <td>1</td>\n",
       "      <td>1</td>\n",
       "      <td>1</td>\n",
       "      <td>0</td>\n",
       "      <td>0</td>\n",
       "      <td>0</td>\n",
       "      <td>0</td>\n",
       "      <td>0</td>\n",
       "      <td>defee0e146ae049c86c14a5e580c6219add8e92f</td>\n",
       "    </tr>\n",
       "    <tr>\n",
       "      <th>134</th>\n",
       "      <td>20200125</td>\n",
       "      <td>1</td>\n",
       "      <td>1</td>\n",
       "      <td>0.0</td>\n",
       "      <td>0.0</td>\n",
       "      <td>0.0</td>\n",
       "      <td>0.0</td>\n",
       "      <td>0.0</td>\n",
       "      <td>0.0</td>\n",
       "      <td>0.0</td>\n",
       "      <td>...</td>\n",
       "      <td>2020-01-25T00:00:00Z</td>\n",
       "      <td>1</td>\n",
       "      <td>1</td>\n",
       "      <td>1</td>\n",
       "      <td>0</td>\n",
       "      <td>0</td>\n",
       "      <td>0</td>\n",
       "      <td>0</td>\n",
       "      <td>0</td>\n",
       "      <td>ca2013db2fa6a2b1a2c776b85d5fcd5e1ca64722</td>\n",
       "    </tr>\n",
       "    <tr>\n",
       "      <th>135</th>\n",
       "      <td>20200124</td>\n",
       "      <td>1</td>\n",
       "      <td>1</td>\n",
       "      <td>0.0</td>\n",
       "      <td>0.0</td>\n",
       "      <td>0.0</td>\n",
       "      <td>0.0</td>\n",
       "      <td>0.0</td>\n",
       "      <td>0.0</td>\n",
       "      <td>0.0</td>\n",
       "      <td>...</td>\n",
       "      <td>2020-01-24T00:00:00Z</td>\n",
       "      <td>1</td>\n",
       "      <td>1</td>\n",
       "      <td>1</td>\n",
       "      <td>0</td>\n",
       "      <td>0</td>\n",
       "      <td>0</td>\n",
       "      <td>0</td>\n",
       "      <td>0</td>\n",
       "      <td>738e6d4a52f6d0895318ad9eda0d965d09feeb70</td>\n",
       "    </tr>\n",
       "    <tr>\n",
       "      <th>136</th>\n",
       "      <td>20200123</td>\n",
       "      <td>1</td>\n",
       "      <td>1</td>\n",
       "      <td>0.0</td>\n",
       "      <td>0.0</td>\n",
       "      <td>0.0</td>\n",
       "      <td>0.0</td>\n",
       "      <td>0.0</td>\n",
       "      <td>0.0</td>\n",
       "      <td>0.0</td>\n",
       "      <td>...</td>\n",
       "      <td>2020-01-23T00:00:00Z</td>\n",
       "      <td>1</td>\n",
       "      <td>1</td>\n",
       "      <td>1</td>\n",
       "      <td>0</td>\n",
       "      <td>0</td>\n",
       "      <td>0</td>\n",
       "      <td>0</td>\n",
       "      <td>0</td>\n",
       "      <td>680d664781c7080c1171f160145dafc31e3b93af</td>\n",
       "    </tr>\n",
       "    <tr>\n",
       "      <th>137</th>\n",
       "      <td>20200122</td>\n",
       "      <td>1</td>\n",
       "      <td>1</td>\n",
       "      <td>0.0</td>\n",
       "      <td>0.0</td>\n",
       "      <td>0.0</td>\n",
       "      <td>0.0</td>\n",
       "      <td>0.0</td>\n",
       "      <td>0.0</td>\n",
       "      <td>0.0</td>\n",
       "      <td>...</td>\n",
       "      <td>2020-01-22T00:00:00Z</td>\n",
       "      <td>1</td>\n",
       "      <td>1</td>\n",
       "      <td>1</td>\n",
       "      <td>0</td>\n",
       "      <td>0</td>\n",
       "      <td>0</td>\n",
       "      <td>0</td>\n",
       "      <td>0</td>\n",
       "      <td>615132d06fd9e22bc21b1b3ec47fb9b2a0de0734</td>\n",
       "    </tr>\n",
       "  </tbody>\n",
       "</table>\n",
       "<p>138 rows × 25 columns</p>\n",
       "</div>"
      ],
      "text/plain": [
       "         date  states  positive    negative  pending  hospitalizedCurrently  \\\n",
       "0    20200607      56   1936161  18299517.0   1733.0                30299.0   \n",
       "1    20200606      56   1916229  17872298.0   1796.0                30909.0   \n",
       "2    20200605      56   1893167  17355207.0   1749.0                31335.0   \n",
       "3    20200604      56   1864775  16837909.0   3474.0                31659.0   \n",
       "4    20200603      56   1844235  16398515.0   3556.0                32081.0   \n",
       "..        ...     ...       ...         ...      ...                    ...   \n",
       "133  20200126       1         1         0.0      0.0                    0.0   \n",
       "134  20200125       1         1         0.0      0.0                    0.0   \n",
       "135  20200124       1         1         0.0      0.0                    0.0   \n",
       "136  20200123       1         1         0.0      0.0                    0.0   \n",
       "137  20200122       1         1         0.0      0.0                    0.0   \n",
       "\n",
       "     hospitalizedCumulative  inIcuCurrently  inIcuCumulative  \\\n",
       "0                  216906.0          6493.0           8957.0   \n",
       "1                  216259.0          6754.0           8920.0   \n",
       "2                  215252.0          6912.0           8863.0   \n",
       "3                  213812.0          7054.0           8787.0   \n",
       "4                  216640.0          7224.0           8688.0   \n",
       "..                      ...             ...              ...   \n",
       "133                     0.0             0.0              0.0   \n",
       "134                     0.0             0.0              0.0   \n",
       "135                     0.0             0.0              0.0   \n",
       "136                     0.0             0.0              0.0   \n",
       "137                     0.0             0.0              0.0   \n",
       "\n",
       "     onVentilatorCurrently  ...          lastModified     total  \\\n",
       "0                   3298.0  ...  2020-06-07T00:00:00Z  20237411   \n",
       "1                   3476.0  ...  2020-06-06T00:00:00Z  19790323   \n",
       "2                   3523.0  ...  2020-06-05T00:00:00Z  19250123   \n",
       "3                   3665.0  ...  2020-06-04T00:00:00Z  18706158   \n",
       "4                   3749.0  ...  2020-06-03T00:00:00Z  18246306   \n",
       "..                     ...  ...                   ...       ...   \n",
       "133                    0.0  ...  2020-01-26T00:00:00Z         1   \n",
       "134                    0.0  ...  2020-01-25T00:00:00Z         1   \n",
       "135                    0.0  ...  2020-01-24T00:00:00Z         1   \n",
       "136                    0.0  ...  2020-01-23T00:00:00Z         1   \n",
       "137                    0.0  ...  2020-01-22T00:00:00Z         1   \n",
       "\n",
       "    totalTestResults    posNeg  deathIncrease hospitalizedIncrease  \\\n",
       "0           20235678  20235678            453                  647   \n",
       "1           19788527  19788527            746                 1007   \n",
       "2           19248374  19248374           1100                 1440   \n",
       "3           18702684  18702684            884                -2828   \n",
       "4           18242750  18242750            971                 2258   \n",
       "..               ...       ...            ...                  ...   \n",
       "133                1         1              0                    0   \n",
       "134                1         1              0                    0   \n",
       "135                1         1              0                    0   \n",
       "136                1         1              0                    0   \n",
       "137                1         1              0                    0   \n",
       "\n",
       "     negativeIncrease  positiveIncrease  totalTestResultsIncrease  \\\n",
       "0              427219             19932                    447151   \n",
       "1              517091             23062                    540153   \n",
       "2              517298             28392                    545690   \n",
       "3              439394             20540                    459934   \n",
       "4              438728             20063                    458791   \n",
       "..                ...               ...                       ...   \n",
       "133                 0                 0                         0   \n",
       "134                 0                 0                         0   \n",
       "135                 0                 0                         0   \n",
       "136                 0                 0                         0   \n",
       "137                 0                 0                         0   \n",
       "\n",
       "                                         hash  \n",
       "0    5f6979262beb8a9cfd142ddfeb3cfaa94cab7e4f  \n",
       "1    f2540c8d958b7647d63cbe7a50209e861aeaa260  \n",
       "2    8a6347d0d8e20dfede26ddd4265eb36923178d00  \n",
       "3    c93b7399aca9ff1af0861397b09744eb6586fe9c  \n",
       "4    28c140c1abb0bdabfa257a8d2ca6ada1c15d6860  \n",
       "..                                        ...  \n",
       "133  defee0e146ae049c86c14a5e580c6219add8e92f  \n",
       "134  ca2013db2fa6a2b1a2c776b85d5fcd5e1ca64722  \n",
       "135  738e6d4a52f6d0895318ad9eda0d965d09feeb70  \n",
       "136  680d664781c7080c1171f160145dafc31e3b93af  \n",
       "137  615132d06fd9e22bc21b1b3ec47fb9b2a0de0734  \n",
       "\n",
       "[138 rows x 25 columns]"
      ]
     },
     "execution_count": 81,
     "metadata": {},
     "output_type": "execute_result"
    }
   ],
   "source": [
    "data = pd.read_csv(\"https://covidtracking.com/api/v1/us/daily.csv\").fillna(0)\n",
    "data"
   ]
  },
  {
   "cell_type": "code",
   "execution_count": 145,
   "metadata": {},
   "outputs": [],
   "source": [
    "tmp_data = pd.concat([pd.Series(np.zeros(6)),data['death']], ignore_index=True).to_numpy()\n",
    "death_in_7_days = tmp_data[6:]\n",
    "#death_in_7_days = tmp_data[0:-7] + tmp_data[1:-6] + tmp_data[2:-5] + tmp_data[3:-4] + tmp_data[4:-3] + tmp_data[5:-2] + tmp_data[6:-1] + tmp_data[7:]\n",
    "for i in range(6):\n",
    "    death_in_7_days += tmp_data[i:(i-6)]\n",
    "average_death_in_7_days = (death_in_7_days/7)[::-1]\n",
    "average_death_in_7_days = average_death_in_7_days[average_death_in_7_days.nonzero()]"
   ]
  },
  {
   "cell_type": "code",
   "execution_count": 153,
   "metadata": {},
   "outputs": [
    {
     "data": {
      "text/plain": [
       "array([2.85714286e-01, 5.71428571e-01, 1.14285714e+00, 2.14285714e+00,\n",
       "       3.57142857e+00, 6.00000000e+00, 9.28571429e+00, 1.35714286e+01,\n",
       "       1.92857143e+01, 2.71428571e+01, 3.62857143e+01, 4.77142857e+01,\n",
       "       6.14285714e+01, 7.65714286e+01, 9.50000000e+01, 1.16285714e+02,\n",
       "       1.39000000e+02, 1.64714286e+02, 1.94571429e+02, 2.28142857e+02,\n",
       "       2.67714286e+02, 3.13714286e+02, 3.68714286e+02, 4.38857143e+02,\n",
       "       5.24285714e+02, 6.38714286e+02, 7.80571429e+02, 9.68571429e+02,\n",
       "       1.22257143e+03, 1.54657143e+03, 1.98000000e+03, 2.54028571e+03,\n",
       "       3.25614286e+03, 4.16542857e+03, 5.33757143e+03, 6.80800000e+03,\n",
       "       8.64214286e+03, 1.09134286e+04, 1.36714286e+04, 1.69802857e+04,\n",
       "       2.08975714e+04, 2.55808571e+04, 3.10365714e+04, 3.73230000e+04,\n",
       "       4.45404286e+04, 5.26520000e+04, 6.16745714e+04, 7.16738571e+04,\n",
       "       8.26862857e+04, 9.46395714e+04, 1.07507571e+05, 1.21214571e+05,\n",
       "       1.35653714e+05, 1.50805286e+05, 1.66616143e+05, 1.83049429e+05,\n",
       "       1.99922143e+05, 2.17103714e+05, 2.34608857e+05, 2.52338000e+05,\n",
       "       2.70123143e+05, 2.87899429e+05, 3.05717714e+05, 3.23531429e+05,\n",
       "       3.41309143e+05, 3.58901143e+05, 3.76280143e+05, 3.93414857e+05,\n",
       "       4.10381143e+05, 4.27475857e+05, 4.44368000e+05, 4.61081857e+05,\n",
       "       4.77738286e+05, 4.94243429e+05, 5.10707571e+05, 5.27059143e+05,\n",
       "       5.43375286e+05, 5.59588143e+05, 5.75754143e+05, 5.91646143e+05,\n",
       "       6.07321286e+05, 6.22737571e+05, 6.37767857e+05, 6.52684857e+05,\n",
       "       6.67285857e+05, 6.81453000e+05, 6.95227286e+05, 7.08669429e+05,\n",
       "       7.21580571e+05, 7.34204857e+05, 7.46474714e+05, 7.58380286e+05,\n",
       "       7.70042571e+05, 7.81236429e+05, 7.92122857e+05, 8.02607714e+05,\n",
       "       8.12780857e+05, 8.22827286e+05, 8.32669143e+05, 8.42180000e+05,\n",
       "       8.51486000e+05, 8.60563429e+05, 8.69384429e+05, 8.63142714e+05,\n",
       "       8.56614286e+05, 8.49761714e+05, 8.27735429e+05, 8.05303857e+05,\n",
       "       7.67422000e+05, 7.14115571e+05, 6.60159571e+05, 6.05635429e+05,\n",
       "       5.35647000e+05, 4.64939857e+05, 3.93541571e+05, 3.21576000e+05,\n",
       "       2.63935857e+05, 2.05798000e+05, 1.47294286e+05, 1.03316143e+05,\n",
       "       7.40070000e+04, 4.45068571e+04, 2.97638571e+04, 1.49142857e+04])"
      ]
     },
     "execution_count": 153,
     "metadata": {},
     "output_type": "execute_result"
    }
   ],
   "source": [
    "average_death_in_7_days"
   ]
  },
  {
   "cell_type": "code",
   "execution_count": 152,
   "metadata": {},
   "outputs": [
    {
     "data": {
      "text/plain": [
       "<matplotlib.legend.Legend at 0x7f3841872048>"
      ]
     },
     "execution_count": 152,
     "metadata": {},
     "output_type": "execute_result"
    },
    {
     "data": {
      "image/png": "[encoded data removed]",
      "text/plain": [
       "<Figure size 432x288 with 1 Axes>"
      ]
     },
     "metadata": {
      "needs_background": "light"
     },
     "output_type": "display_data"
    }
   ],
   "source": [
    "#x = data['date']\n",
    "x = np.arange(len(average_death_in_7_days))\n",
    "plt.plot(x,average_death_in_7_days, label='average death in 7 days')\n",
    "plt.legend()"
   ]
  },
  {
   "cell_type": "markdown",
   "metadata": {},
   "source": [
    "## b.\n",
    "#### https://docs.scipy.org/doc/scipy/reference/generated/scipy.optimize.curve_fit.html"
   ]
  },
  {
   "cell_type": "code",
   "execution_count": null,
   "metadata": {},
   "outputs": [],
   "source": []
  }
 ],
 "metadata": {
  "kernelspec": {
   "display_name": "Python 3",
   "language": "python",
   "name": "python3"
  },
  "language_info": {
   "codemirror_mode": {
    "name": "ipython",
    "version": 3
   },
   "file_extension": ".py",
   "mimetype": "text/x-python",
   "name": "python",
   "nbconvert_exporter": "python",
   "pygments_lexer": "ipython3",
   "version": "3.6.10"
  }
 },
 "nbformat": 4,
 "nbformat_minor": 4
}
